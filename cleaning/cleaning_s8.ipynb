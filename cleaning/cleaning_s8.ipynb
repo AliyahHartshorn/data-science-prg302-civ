{
 "cells": [
  {
   "cell_type": "code",
   "execution_count": 4,
   "metadata": {},
   "outputs": [],
   "source": [
    "import pandas\n",
    "df=pandas.read_csv(\"cleaning\\\\medical_students_dataset.csv\")\n",
    "odf=pandas.read_csv(\"cleaning\\\\medical_students.csv\")"
   ]
  },
  {
   "cell_type": "code",
   "execution_count": 5,
   "metadata": {},
   "outputs": [
    {
     "name": "stdout",
     "output_type": "stream",
     "text": [
      "['Female' 'Male' nan]\n",
      "['Female' 'Male' nan 'F' 'DFemale' 'M' 'male' 'Fwemale' 'Nonbinary' 'O'\n",
      " 'm' 'f' 'female' 'FDemale' 'Other' 'Mmale' 'non-binary' 'Femal' 'Fenmale'\n",
      " 'Femaole' 'Non-binary' 'Mafle' 'NB' 'nale' 'nonbinary' 'n']\n"
     ]
    }
   ],
   "source": [
    "print(odf[\"Gender\"].unique())\n",
    "print(df[\"Gender\"].unique())"
   ]
  }
 ],
 "metadata": {
  "kernelspec": {
   "display_name": ".venv",
   "language": "python",
   "name": "python3"
  },
  "language_info": {
   "codemirror_mode": {
    "name": "ipython",
    "version": 3
   },
   "file_extension": ".py",
   "mimetype": "text/x-python",
   "name": "python",
   "nbconvert_exporter": "python",
   "pygments_lexer": "ipython3",
   "version": "3.12.9"
  }
 },
 "nbformat": 4,
 "nbformat_minor": 2
}
