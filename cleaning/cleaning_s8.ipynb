{
 "cells": [
  {
   "cell_type": "code",
   "execution_count": 15,
   "metadata": {},
   "outputs": [],
   "source": [
    "import pandas\n",
    "from re import search\n",
    "#df=pandas.read_csv(\"C:\\Users\\\\5004064\\\\source\\\\repos\\\\data-science-prg302-civ\\\\cleaning\\\\medical_students_dataset.csv\")\n",
    "odf=pandas.read_csv(\"cleaning\\\\medical_students_original.csv\")"
   ]
  },
  {
   "cell_type": "code",
   "execution_count": 23,
   "metadata": {},
   "outputs": [
    {
     "name": "stdout",
     "output_type": "stream",
     "text": [
      "['Female' 'Male' nan]\n",
      "['Female' 'Male' nan 'F' 'DFemale' 'M' 'male' 'Fwemale' 'Nonbinary' 'O'\n",
      " 'm' 'f' 'female' 'FDemale' 'Other' 'Mmale' 'non-binary' 'Femal' 'Fenmale'\n",
      " 'Femaole' 'Non-binary' 'Mafle' 'NB' 'nale' 'nonbinary' 'n']\n"
     ]
    }
   ],
   "source": [
    "print(odf[\"Gender\"].unique())\n",
    "print(df[\"Gender\"].unique())"
   ]
  },
  {
   "cell_type": "code",
   "execution_count": 27,
   "metadata": {},
   "outputs": [
    {
     "name": "stdout",
     "output_type": "stream",
     "text": [
      "['Female' 'Male' 'Unspecified' 'Nonbinary']\n"
     ]
    }
   ],
   "source": [
    "def map_gender(gender_str):\n",
    "    lookup={\"o\":\"Unspecified\",\n",
    "            \"other\":\"Unspecified\",\n",
    "            \"nale\":\"Male\"}\n",
    "    if (pandas.isnull(gender_str)):\n",
    "        return \"Unspecified\"\n",
    "    lwr=str(gender_str).lower()\n",
    "    first=lwr[0]\n",
    "    if (search(\"fem\",lwr)):\n",
    "        return \"Female\"\n",
    "    if (first==\"m\"):\n",
    "        return \"Male\"\n",
    "    elif (first==\"f\"):\n",
    "        return \"Female\"\n",
    "    elif (first==\"n\"):\n",
    "        return \"Nonbinary\"\n",
    "    else:\n",
    "        tx=lookup.get(str(gender_str).lower())\n",
    "        return gender_str if tx is None else tx\n",
    "lookup=pandas.DataFrame()\n",
    "print(df[\"Gender\"].apply(map_gender).unique())\n",
    "#df[\"Gender\"].unique()"
   ]
  },
  {
   "cell_type": "code",
   "execution_count": null,
   "metadata": {},
   "outputs": [
    {
     "name": "stdout",
     "output_type": "stream",
     "text": [
      "        Student ID   Age  Gender      Height     Weight Blood Type        BMI  \\\n",
      "0              1.0  18.0  Female  161.777924  72.354947          O  27.645835   \n",
      "126          127.0  18.0  Female  159.484893  63.197546          B  24.846265   \n",
      "151          152.0  18.0  Female  179.748760  83.693298          A        NaN   \n",
      "165          166.0  18.0  Female  156.705013  52.445831         AB  21.357243   \n",
      "169          170.0  18.0  Female  195.410436  69.067051          B  18.087369   \n",
      "...            ...   ...     ...         ...        ...        ...        ...   \n",
      "199928     99929.0  34.0    Male  170.559164  53.782290          O  18.487968   \n",
      "199942     99943.0  34.0    Male  188.570042  64.131836          A  18.035504   \n",
      "199972     99973.0  34.0    Male         NaN  80.188752         AB  21.270517   \n",
      "199986     99987.0  34.0    Male  165.651315  93.099756          A  33.928040   \n",
      "199992     99993.0  34.0    Male  161.590030  90.877589          B  34.803881   \n",
      "\n",
      "        Temperature  Heart Rate  Blood Pressure  Cholesterol Diabetes Smoking  \n",
      "0               NaN        95.0           109.0        203.0       No     NaN  \n",
      "126       98.688134        60.0           130.0        162.0       No     Yes  \n",
      "151       99.156425        77.0            90.0        182.0       No      No  \n",
      "165       98.654610        61.0           102.0        128.0       No      No  \n",
      "169       98.865134        61.0             NaN        215.0      NaN      No  \n",
      "...             ...         ...             ...          ...      ...     ...  \n",
      "199928    98.392237        88.0           127.0        126.0       No      No  \n",
      "199942    98.884022         NaN           128.0        242.0      NaN      No  \n",
      "199972    98.853214        81.0           117.0        244.0       No      No  \n",
      "199986    97.862209        62.0           100.0        205.0       No      No  \n",
      "199992    98.728836        70.0            96.0        208.0       No      No  \n",
      "\n",
      "[161985 rows x 13 columns]\n"
     ]
    }
   ],
   "source": [
    "\n",
    "nonnulls=odf[odf['Gender'].notna() & odf['Age'].notna()]\n",
    "print(nonnulls.sort_values(['Gender','Age']))\n",
    "\n",
    "nonnulls.eval()"
   ]
  }
 ],
 "metadata": {
  "kernelspec": {
   "display_name": ".venv",
   "language": "python",
   "name": "python3"
  },
  "language_info": {
   "codemirror_mode": {
    "name": "ipython",
    "version": 3
   },
   "file_extension": ".py",
   "mimetype": "text/x-python",
   "name": "python",
   "nbconvert_exporter": "python",
   "pygments_lexer": "ipython3",
   "version": "3.12.9"
  }
 },
 "nbformat": 4,
 "nbformat_minor": 2
}
