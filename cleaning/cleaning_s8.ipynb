{
 "cells": [
  {
   "cell_type": "code",
   "execution_count": 4,
   "metadata": {},
   "outputs": [
    {
     "name": "stdout",
     "output_type": "stream",
     "text": [
      "variations found in original data set\n",
      "['Female' 'Male' nan]\n",
      "variations found in modified data set\n",
      "['Female' 'Male' nan 'F' 'DFemale' 'M' 'male' 'Fwemale' 'Nonbinary' 'O'\n",
      " 'm' 'f' 'female' 'FDemale' 'Other' 'Mmale' 'non-binary' 'Femal' 'Fenmale'\n",
      " 'Femaole' 'Non-binary' 'Mafle' 'NB' 'nale' 'nonbinary' 'n']\n"
     ]
    }
   ],
   "source": [
    "import pandas\n",
    "from re import search\n",
    "odf=pandas.read_csv(\"medical_students_original.csv\")\n",
    "df=pandas.read_csv(\"medical_students_dataset.csv\")\n",
    "print(\"variations found in original data set\")\n",
    "print(odf[\"Gender\"].unique())\n",
    "print(\"variations found in modified data set\")\n",
    "print(df[\"Gender\"].unique())"
   ]
  },
  {
   "cell_type": "code",
   "execution_count": null,
   "metadata": {},
   "outputs": [
    {
     "name": "stdout",
     "output_type": "stream",
     "text": [
      "['Female' 'Male' nan]\n",
      "['Female' 'Male' nan 'F' 'DFemale' 'M' 'male' 'Fwemale' 'Nonbinary' 'O'\n",
      " 'm' 'f' 'female' 'FDemale' 'Other' 'Mmale' 'non-binary' 'Femal' 'Fenmale'\n",
      " 'Femaole' 'Non-binary' 'Mafle' 'NB' 'nale' 'nonbinary' 'n']\n"
     ]
    }
   ],
   "source": []
  },
  {
   "cell_type": "code",
   "execution_count": null,
   "metadata": {},
   "outputs": [
    {
     "name": "stdout",
     "output_type": "stream",
     "text": [
      "['Female' 'Male' 'Unspecified' 'Nonbinary']\n"
     ]
    }
   ],
   "source": [
    "def map_gender(gender_str):\n",
    "    lookup={\"o\":\"Unspecified\",\n",
    "            \"other\":\"Unspecified\",\n",
    "            \"nale\":\"Male\"}\n",
    "    if (pandas.isnull(gender_str)):\n",
    "        return \"Unspecified\"\n",
    "    lwr=str(gender_str).lower()\n",
    "    first=lwr[0]\n",
    "    if (search(\"fem\",lwr)):\n",
    "        return \"Female\"\n",
    "    if (first==\"m\"):\n",
    "        return \"Male\"\n",
    "    elif (first==\"f\"):\n",
    "        return \"Female\"\n",
    "    elif (first==\"n\"):\n",
    "        return \"Nonbinary\"\n",
    "    else:\n",
    "        tx=lookup.get(str(gender_str).lower())\n",
    "        return gender_str if tx is None else tx\n",
    "lookup=pandas.DataFrame()\n",
    "print(df[\"Gender\"].apply(map_gender).unique())\n",
    "#df[\"Gender\"].unique()"
   ]
  }
 ],
 "metadata": {
  "kernelspec": {
   "display_name": ".venv",
   "language": "python",
   "name": "python3"
  },
  "language_info": {
   "codemirror_mode": {
    "name": "ipython",
    "version": 3
   },
   "file_extension": ".py",
   "mimetype": "text/x-python",
   "name": "python",
   "nbconvert_exporter": "python",
   "pygments_lexer": "ipython3",
   "version": "3.12.9"
  }
 },
 "nbformat": 4,
 "nbformat_minor": 2
}
