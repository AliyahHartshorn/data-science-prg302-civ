{
 "cells": [
  {
   "cell_type": "code",
   "execution_count": 14,
   "metadata": {},
   "outputs": [],
   "source": [
    "import pandas\n",
    "df=pandas.read_csv(\"cleaning\\\\medical_students_dataset.csv\")\n",
    "odf=pandas.read_csv(\"cleaning\\\\medical_students_original.csv\")"
   ]
  },
  {
   "cell_type": "code",
   "execution_count": 15,
   "metadata": {},
   "outputs": [
    {
     "name": "stdout",
     "output_type": "stream",
     "text": [
      "['Female' 'Male' nan]\n",
      "['Female' 'Male' nan 'F' 'DFemale' 'M' 'male' 'Fwemale' 'Nonbinary' 'O'\n",
      " 'm' 'f' 'female' 'FDemale' 'Other' 'Mmale' 'non-binary' 'Femal' 'Fenmale'\n",
      " 'Femaole' 'Non-binary' 'Mafle' 'NB' 'nale' 'nonbinary' 'n']\n"
     ]
    }
   ],
   "source": [
    "print(odf[\"Gender\"].unique())\n",
    "print(df[\"Gender\"].unique())"
   ]
  },
  {
   "cell_type": "code",
   "execution_count": null,
   "metadata": {},
   "outputs": [
    {
     "name": "stdout",
     "output_type": "stream",
     "text": [
      "['Female' 'Male' nan 'DFemale' 'Nonbinary' 'Unspecified' 'nonbinary']\n"
     ]
    },
    {
     "data": {
      "text/plain": [
       "array(['Female', 'Male', nan, 'F', 'DFemale', 'M', 'male', 'Fwemale',\n",
       "       'Nonbinary', 'O', 'm', 'f', 'female', 'FDemale', 'Other', 'Mmale',\n",
       "       'non-binary', 'Femal', 'Fenmale', 'Femaole', 'Non-binary', 'Mafle',\n",
       "       'NB', 'nale', 'nonbinary', 'n'], dtype=object)"
      ]
     },
     "execution_count": 19,
     "metadata": {},
     "output_type": "execute_result"
    }
   ],
   "source": [
    "def map_gender(gender_str):\n",
    "    lookup={\"non-binary\":\"Nonbinary\",\n",
    "            \"nonbinary\":\"Nonbinary\",\n",
    "            'nb':\"Nonbinary\",\n",
    "            \"n\":\"Nonbinary\",\n",
    "            \"o\":\"Unspecified\",\n",
    "            \"other\":\"Unspecified\",\n",
    "            \"nale\":\"Male\"}\n",
    "    first=str(gender_str)[0].lower()\n",
    "    if (first==\"m\"):\n",
    "        return \"Male\"\n",
    "    elif (first==\"f\"):\n",
    "        return \"Female\"\n",
    "    else:\n",
    "        tx=lookup.get(str(gender_str).lower())\n",
    "        return gender_str if tx is None else tx\n",
    "print(df[\"Gender\"].apply(map_gender).unique())\n",
    "df[\"Gender\"].unique()"
   ]
  }
 ],
 "metadata": {
  "kernelspec": {
   "display_name": ".venv",
   "language": "python",
   "name": "python3"
  },
  "language_info": {
   "codemirror_mode": {
    "name": "ipython",
    "version": 3
   },
   "file_extension": ".py",
   "mimetype": "text/x-python",
   "name": "python",
   "nbconvert_exporter": "python",
   "pygments_lexer": "ipython3",
   "version": "3.12.9"
  }
 },
 "nbformat": 4,
 "nbformat_minor": 2
}
